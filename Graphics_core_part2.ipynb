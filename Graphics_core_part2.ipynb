{
  "nbformat": 4,
  "nbformat_minor": 0,
  "metadata": {
    "colab": {
      "name": "Graphics_core_part2.ipynb",
      "provenance": [],
      "collapsed_sections": [],
      "authorship_tag": "ABX9TyOtZT7HBx6tNhnQL5hJEZxd",
      "include_colab_link": true
    },
    "kernelspec": {
      "name": "python3",
      "display_name": "Python 3"
    },
    "language_info": {
      "name": "python"
    }
  },
  "cells": [
    {
      "cell_type": "markdown",
      "metadata": {
        "id": "view-in-github",
        "colab_type": "text"
      },
      "source": [
        "<a href=\"https://colab.research.google.com/github/FelipeVillegasH/Tareas_coding_dojo/blob/main/Graphics_core_part2.ipynb\" target=\"_parent\"><img src=\"https://colab.research.google.com/assets/colab-badge.svg\" alt=\"Open In Colab\"/></a>"
      ]
    },
    {
      "cell_type": "markdown",
      "source": [
        "###Recreate Graphics\n",
        "#By Felipe Villegas\n",
        "###Created: 13.01.2022\n",
        "Description: use of matplotlib.pyplot, filters and .loc to graphic specific filtered data.\n",
        "plt.xlim\n",
        "plt.ylim\n",
        "plt.label\n",
        "plt.legend\n",
        "plt.grid\n"
      ],
      "metadata": {
        "id": "3AFB_olJAxVg"
      }
    },
    {
      "cell_type": "code",
      "execution_count": 1,
      "metadata": {
        "colab": {
          "base_uri": "https://localhost:8080/"
        },
        "id": "OIPWlogWAoj-",
        "outputId": "8ce06640-1439-421e-931e-3a6f8042a466"
      },
      "outputs": [
        {
          "output_type": "stream",
          "name": "stdout",
          "text": [
            "Mounted at /content/drive\n"
          ]
        }
      ],
      "source": [
        "import pandas as pd\n",
        "import numpy as np\n",
        "import matplotlib.pyplot as plt\n",
        "from google.colab import drive\n",
        "drive.mount('/content/drive')"
      ]
    },
    {
      "cell_type": "code",
      "source": [
        "df=pd.read_csv('/content/drive/MyDrive/CodingDojo/tareas/core/Semana 3 Graphics/mortgages.csv')"
      ],
      "metadata": {
        "id": "zEwhRHiPA8fK"
      },
      "execution_count": 2,
      "outputs": []
    },
    {
      "cell_type": "code",
      "source": [
        "# Remane of columns with the dictionary method so we can have more pythoic names to work with \n",
        "df=df.rename(columns={\n",
        "    'Starting Balance':'Starting_Balance',\n",
        "    'Interest Paid':'Interest_Paid',\n",
        "    'Principal Paid':'Principal_Paid',\n",
        "    'New Balance':'New_Balance',\n",
        "    'Mortgage Name':'Mortgage_Name',\n",
        "    'Interest Rate':'Interest_Rate',\n",
        "})"
      ],
      "metadata": {
        "id": "RQgmipyDBESf"
      },
      "execution_count": 4,
      "outputs": []
    },
    {
      "cell_type": "code",
      "source": [
        "# create filters on each column to be used\n",
        "Ir3=df['Interest_Rate']==0.03\n",
        "Ir5=df['Interest_Rate']==0.05\n",
        "ItP=df['Interest_Paid']\n",
        "Year=df['Mortgage_Name']=='30 Year'\n",
        "Year"
      ],
      "metadata": {
        "colab": {
          "base_uri": "https://localhost:8080/"
        },
        "id": "FfnVC_OYBG6z",
        "outputId": "2baee5bf-3bd0-4df3-eee5-1ef357f9e992"
      },
      "execution_count": 5,
      "outputs": [
        {
          "output_type": "execute_result",
          "data": {
            "text/plain": [
              "0        True\n",
              "1        True\n",
              "2        True\n",
              "3        True\n",
              "4        True\n",
              "        ...  \n",
              "1075    False\n",
              "1076    False\n",
              "1077    False\n",
              "1078    False\n",
              "1079    False\n",
              "Name: Mortgage_Name, Length: 1080, dtype: bool"
            ]
          },
          "metadata": {},
          "execution_count": 5
        }
      ]
    },
    {
      "cell_type": "code",
      "source": [
        "# loc the filters in new variables with the .loc method \n",
        "filter3=df.loc[Year&Ir3,:]\n",
        "filter5=df.loc[Year&Ir5,:]"
      ],
      "metadata": {
        "id": "mW0iGMsCBJsb"
      },
      "execution_count": 7,
      "outputs": []
    },
    {
      "cell_type": "code",
      "source": [
        "# define the figure size \n",
        "fig, axes = plt.subplots(nrows = 1, ncols = 1, figsize=(10, 5) )\n",
        "# graphic each filtered variables\n",
        "plt.plot(filter3['Month'],filter3['Interest_Paid'].cumsum(),c='b', label='30 Year 3% APR');\n",
        "plt.plot(filter5['Month'],filter5['Interest_Paid'].cumsum(),c='k', label='30 Year 3% APR');\n",
        "plt.xlim(left=0)\n",
        "plt.ylim(bottom=0)\n",
        "plt.title('Cumulative Interest Paid')\n",
        "plt.xlabel('Month')\n",
        "plt.ylabel('Dollars')\n",
        "plt.legend(loc=4)\n",
        "plt.grid()"
      ],
      "metadata": {
        "colab": {
          "base_uri": "https://localhost:8080/",
          "height": 350
        },
        "id": "vSF2Gy2DBOlp",
        "outputId": "75478f0f-88ef-460a-d595-33160c025b75"
      },
      "execution_count": 20,
      "outputs": [
        {
          "output_type": "display_data",
          "data": {
            "image/png": "[encoded data removed]",
            "text/plain": [
              "<Figure size 720x360 with 1 Axes>"
            ]
          },
          "metadata": {
            "needs_background": "light"
          }
        }
      ]
    },
    {
      "cell_type": "code",
      "source": [
        ""
      ],
      "metadata": {
        "id": "O_okS8ODVo08"
      },
      "execution_count": null,
      "outputs": []
    }
  ]
}