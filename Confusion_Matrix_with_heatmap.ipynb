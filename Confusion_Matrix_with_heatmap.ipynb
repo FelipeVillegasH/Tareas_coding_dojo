{
  "nbformat": 4,
  "nbformat_minor": 0,
  "metadata": {
    "colab": {
      "name": "Confusion_Matrix_with_heatmap.ipynb",
      "provenance": [],
      "collapsed_sections": [],
      "authorship_tag": "ABX9TyNp5QVo8Th3iHqAHKHjdZ7f",
      "include_colab_link": true
    },
    "kernelspec": {
      "name": "python3",
      "display_name": "Python 3"
    },
    "language_info": {
      "name": "python"
    }
  },
  "cells": [
    {
      "cell_type": "markdown",
      "metadata": {
        "id": "view-in-github",
        "colab_type": "text"
      },
      "source": [
        "<a href=\"https://colab.research.google.com/github/FelipeVillegasH/Tareas_coding_dojo-Track1/blob/main/Confusion_Matrix_with_heatmap.ipynb\" target=\"_parent\"><img src=\"https://colab.research.google.com/assets/colab-badge.svg\" alt=\"Open In Colab\"/></a>"
      ]
    },
    {
      "cell_type": "markdown",
      "source": [
        "### Drawing a Confusion Matrix by using a heatmap \n",
        "# By Felipe Villegas\n",
        "### Crated: 30.01.2022"
      ],
      "metadata": {
        "id": "RRvyFFmhfngk"
      }
    },
    {
      "cell_type": "code",
      "source": [
        "import pandas as pd\n",
        "import seaborn as sns\n",
        "import matplotlib.pyplot as plt\n",
        "import numpy as np"
      ],
      "metadata": {
        "id": "ttRlnO13WRzS"
      },
      "execution_count": 3,
      "outputs": []
    },
    {
      "cell_type": "code",
      "execution_count": 24,
      "metadata": {
        "colab": {
          "base_uri": "https://localhost:8080/"
        },
        "id": "L_oKHsBAUXwl",
        "outputId": "557aca6f-4889-426c-d006-102bc3c83a47"
      },
      "outputs": [
        {
          "output_type": "execute_result",
          "data": {
            "text/plain": [
              "array([[87, 16],\n",
              "       [17, 59]])"
            ]
          },
          "metadata": {},
          "execution_count": 24
        }
      ],
      "source": [
        "# we create the array and assign it to a name\n",
        "cf=np.array([[87,16],\n",
        "             [17,59]])\n",
        "cf\n",
        "# its importat that we write in order by rows to then graphic them\n",
        "\n",
        "# then we assign the name to the values for further calculations\n",
        "tp, fp, fn, tn = cf.ravel()\n",
        "cf"
      ]
    },
    {
      "cell_type": "code",
      "source": [
        "# then we graphic the array in the seaborn heatmap\n",
        "sns.heatmap(cf,\n",
        "# then we choose an appropiate color\n",
        "# the human eye is more likely to direct its atention to the darker colors first, so then it is recomended to assign these colors to the higher values \n",
        "# for default the seaborn library assign colors the opposite way so it is important always to change them\n",
        "            cmap='Blues',\n",
        "            annot=True, # this works to show the values in the heatmap\n",
        "            fmt='.0f',# to set the float number and the wanted decimal places\n",
        "            linecolor='k',\n",
        "            linewidth=1,\n",
        "            xticklabels= False,\n",
        "            yticklabels= False\n",
        "            );\n",
        "plt.xlabel('Predicted Label');\n",
        "plt.ylabel('Actual Label');\n",
        "plt.title('Accuracy:{}'.format(Accuracy)); # we use the .format ant the {} to call it as a dictionary and show the value\n",
        "# to transpose any pandas df or a numpy array we can adress the . T propiety as following:\n",
        "# cf.T to completelly invert our matrix"
      ],
      "metadata": {
        "colab": {
          "base_uri": "https://localhost:8080/",
          "height": 278
        },
        "id": "D7QrdU3-WhD7",
        "outputId": "c0056cbb-6c93-447e-d0a9-93c6f71ccda2"
      },
      "execution_count": 34,
      "outputs": [
        {
          "output_type": "display_data",
          "data": {
            "image/png": "[encoded data removed]",
            "text/plain": [
              "<Figure size 432x288 with 2 Axes>"
            ]
          },
          "metadata": {
            "needs_background": "light"
          }
        }
      ]
    },
    {
      "cell_type": "code",
      "source": [
        "# furthermore we calculate the Accuracy or presition level to then set it as a title in the heatmap\n",
        "Accuracy= (tn + tp) / (tn + tp + fn + fp)\n",
        "Accuracy.round(2)"
      ],
      "metadata": {
        "colab": {
          "base_uri": "https://localhost:8080/"
        },
        "id": "0bZOS58DcWQW",
        "outputId": "9522c1df-204a-4ec7-c162-833e4a0aed30"
      },
      "execution_count": 30,
      "outputs": [
        {
          "output_type": "execute_result",
          "data": {
            "text/plain": [
              "0.82"
            ]
          },
          "metadata": {},
          "execution_count": 30
        }
      ]
    }
  ]
}