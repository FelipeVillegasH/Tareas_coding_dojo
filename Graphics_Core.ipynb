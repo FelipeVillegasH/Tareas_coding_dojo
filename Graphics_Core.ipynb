{
  "nbformat": 4,
  "nbformat_minor": 0,
  "metadata": {
    "colab": {
      "name": "Graphics_Core.ipynb",
      "provenance": [],
      "collapsed_sections": [],
      "authorship_tag": "ABX9TyM5SnWxIeLwaMLKw9TOZZdD",
      "include_colab_link": true
    },
    "kernelspec": {
      "name": "python3",
      "display_name": "Python 3"
    },
    "language_info": {
      "name": "python"
    }
  },
  "cells": [
    {
      "cell_type": "markdown",
      "metadata": {
        "id": "view-in-github",
        "colab_type": "text"
      },
      "source": [
        "<a href=\"https://colab.research.google.com/github/FelipeVillegasH/Tareas_coding_dojo/blob/main/Graphics_Core.ipynb\" target=\"_parent\"><img src=\"https://colab.research.google.com/assets/colab-badge.svg\" alt=\"Open In Colab\"/></a>"
      ]
    },
    {
      "cell_type": "markdown",
      "source": [
        "###Recreate Graphics\n",
        "#By Felipe Villegas\n",
        "###Created: 13.01.2022\n",
        "Description: use of matplotlib.pyplot, filters and .loc to graphic specific filtered data."
      ],
      "metadata": {
        "id": "i4Eyga72pzvR"
      }
    },
    {
      "cell_type": "code",
      "execution_count": 3,
      "metadata": {
        "colab": {
          "base_uri": "https://localhost:8080/"
        },
        "id": "Goh-61aRpv_1",
        "outputId": "0165fae6-c760-400d-b9b3-f2a8f355219a"
      },
      "outputs": [
        {
          "output_type": "stream",
          "name": "stdout",
          "text": [
            "Mounted at /content/drive\n"
          ]
        }
      ],
      "source": [
        "import pandas as pd\n",
        "import numpy as np\n",
        "import matplotlib.pyplot as plt\n",
        "from google.colab import drive\n",
        "drive.mount('/content/drive')"
      ]
    },
    {
      "cell_type": "code",
      "source": [
        "df=pd.read_csv('/content/drive/MyDrive/CodingDojo/tareas/core/Semana 3 Graphics/mortgages.csv')"
      ],
      "metadata": {
        "id": "xma6PMF_tc-1"
      },
      "execution_count": 4,
      "outputs": []
    },
    {
      "cell_type": "code",
      "source": [
        "df.head()"
      ],
      "metadata": {
        "colab": {
          "base_uri": "https://localhost:8080/",
          "height": 206
        },
        "id": "Y2a0-kMJud3p",
        "outputId": "4f1e9e55-1eb9-4cf1-fd12-f19e7817fc38"
      },
      "execution_count": 5,
      "outputs": [
        {
          "output_type": "execute_result",
          "data": {
            "text/html": [
              "\n",
              "  <div id=\"df-fa0bd41b-b684-4ac4-a428-8627e1f9a080\">\n",
              "    <div class=\"colab-df-container\">\n",
              "      <div>\n",
              "<style scoped>\n",
              "    .dataframe tbody tr th:only-of-type {\n",
              "        vertical-align: middle;\n",
              "    }\n",
              "\n",
              "    .dataframe tbody tr th {\n",
              "        vertical-align: top;\n",
              "    }\n",
              "\n",
              "    .dataframe thead th {\n",
              "        text-align: right;\n",
              "    }\n",
              "</style>\n",
              "<table border=\"1\" class=\"dataframe\">\n",
              "  <thead>\n",
              "    <tr style=\"text-align: right;\">\n",
              "      <th></th>\n",
              "      <th>Month</th>\n",
              "      <th>Starting Balance</th>\n",
              "      <th>Repayment</th>\n",
              "      <th>Interest Paid</th>\n",
              "      <th>Principal Paid</th>\n",
              "      <th>New Balance</th>\n",
              "      <th>Mortgage Name</th>\n",
              "      <th>Interest Rate</th>\n",
              "    </tr>\n",
              "  </thead>\n",
              "  <tbody>\n",
              "    <tr>\n",
              "      <th>0</th>\n",
              "      <td>1</td>\n",
              "      <td>400000.00</td>\n",
              "      <td>1686.42</td>\n",
              "      <td>1000.00</td>\n",
              "      <td>686.42</td>\n",
              "      <td>399313.58</td>\n",
              "      <td>30 Year</td>\n",
              "      <td>0.03</td>\n",
              "    </tr>\n",
              "    <tr>\n",
              "      <th>1</th>\n",
              "      <td>2</td>\n",
              "      <td>399313.58</td>\n",
              "      <td>1686.42</td>\n",
              "      <td>998.28</td>\n",
              "      <td>688.14</td>\n",
              "      <td>398625.44</td>\n",
              "      <td>30 Year</td>\n",
              "      <td>0.03</td>\n",
              "    </tr>\n",
              "    <tr>\n",
              "      <th>2</th>\n",
              "      <td>3</td>\n",
              "      <td>398625.44</td>\n",
              "      <td>1686.42</td>\n",
              "      <td>996.56</td>\n",
              "      <td>689.86</td>\n",
              "      <td>397935.58</td>\n",
              "      <td>30 Year</td>\n",
              "      <td>0.03</td>\n",
              "    </tr>\n",
              "    <tr>\n",
              "      <th>3</th>\n",
              "      <td>4</td>\n",
              "      <td>397935.58</td>\n",
              "      <td>1686.42</td>\n",
              "      <td>994.83</td>\n",
              "      <td>691.59</td>\n",
              "      <td>397243.99</td>\n",
              "      <td>30 Year</td>\n",
              "      <td>0.03</td>\n",
              "    </tr>\n",
              "    <tr>\n",
              "      <th>4</th>\n",
              "      <td>5</td>\n",
              "      <td>397243.99</td>\n",
              "      <td>1686.42</td>\n",
              "      <td>993.10</td>\n",
              "      <td>693.32</td>\n",
              "      <td>396550.67</td>\n",
              "      <td>30 Year</td>\n",
              "      <td>0.03</td>\n",
              "    </tr>\n",
              "  </tbody>\n",
              "</table>\n",
              "</div>\n",
              "      <button class=\"colab-df-convert\" onclick=\"convertToInteractive('df-fa0bd41b-b684-4ac4-a428-8627e1f9a080')\"\n",
              "              title=\"Convert this dataframe to an interactive table.\"\n",
              "              style=\"display:none;\">\n",
              "        \n",
              "  <svg xmlns=\"http://www.w3.org/2000/svg\" height=\"24px\"viewBox=\"0 0 24 24\"\n",
              "       width=\"24px\">\n",
              "    <path d=\"M0 0h24v24H0V0z\" fill=\"none\"/>\n",
              "    <path d=\"M18.56 5.44l.94 2.06.94-2.06 2.06-.94-2.06-.94-.94-2.06-.94 2.06-2.06.94zm-11 1L8.5 8.5l.94-2.06 2.06-.94-2.06-.94L8.5 2.5l-.94 2.06-2.06.94zm10 10l.94 2.06.94-2.06 2.06-.94-2.06-.94-.94-2.06-.94 2.06-2.06.94z\"/><path d=\"M17.41 7.96l-1.37-1.37c-.4-.4-.92-.59-1.43-.59-.52 0-1.04.2-1.43.59L10.3 9.45l-7.72 7.72c-.78.78-.78 2.05 0 2.83L4 21.41c.39.39.9.59 1.41.59.51 0 1.02-.2 1.41-.59l7.78-7.78 2.81-2.81c.8-.78.8-2.07 0-2.86zM5.41 20L4 18.59l7.72-7.72 1.47 1.35L5.41 20z\"/>\n",
              "  </svg>\n",
              "      </button>\n",
              "      \n",
              "  <style>\n",
              "    .colab-df-container {\n",
              "      display:flex;\n",
              "      flex-wrap:wrap;\n",
              "      gap: 12px;\n",
              "    }\n",
              "\n",
              "    .colab-df-convert {\n",
              "      background-color: #E8F0FE;\n",
              "      border: none;\n",
              "      border-radius: 50%;\n",
              "      cursor: pointer;\n",
              "      display: none;\n",
              "      fill: #1967D2;\n",
              "      height: 32px;\n",
              "      padding: 0 0 0 0;\n",
              "      width: 32px;\n",
              "    }\n",
              "\n",
              "    .colab-df-convert:hover {\n",
              "      background-color: #E2EBFA;\n",
              "      box-shadow: 0px 1px 2px rgba(60, 64, 67, 0.3), 0px 1px 3px 1px rgba(60, 64, 67, 0.15);\n",
              "      fill: #174EA6;\n",
              "    }\n",
              "\n",
              "    [theme=dark] .colab-df-convert {\n",
              "      background-color: #3B4455;\n",
              "      fill: #D2E3FC;\n",
              "    }\n",
              "\n",
              "    [theme=dark] .colab-df-convert:hover {\n",
              "      background-color: #434B5C;\n",
              "      box-shadow: 0px 1px 3px 1px rgba(0, 0, 0, 0.15);\n",
              "      filter: drop-shadow(0px 1px 2px rgba(0, 0, 0, 0.3));\n",
              "      fill: #FFFFFF;\n",
              "    }\n",
              "  </style>\n",
              "\n",
              "      <script>\n",
              "        const buttonEl =\n",
              "          document.querySelector('#df-fa0bd41b-b684-4ac4-a428-8627e1f9a080 button.colab-df-convert');\n",
              "        buttonEl.style.display =\n",
              "          google.colab.kernel.accessAllowed ? 'block' : 'none';\n",
              "\n",
              "        async function convertToInteractive(key) {\n",
              "          const element = document.querySelector('#df-fa0bd41b-b684-4ac4-a428-8627e1f9a080');\n",
              "          const dataTable =\n",
              "            await google.colab.kernel.invokeFunction('convertToInteractive',\n",
              "                                                     [key], {});\n",
              "          if (!dataTable) return;\n",
              "\n",
              "          const docLinkHtml = 'Like what you see? Visit the ' +\n",
              "            '<a target=\"_blank\" href=https://colab.research.google.com/notebooks/data_table.ipynb>data table notebook</a>'\n",
              "            + ' to learn more about interactive tables.';\n",
              "          element.innerHTML = '';\n",
              "          dataTable['output_type'] = 'display_data';\n",
              "          await google.colab.output.renderOutput(dataTable, element);\n",
              "          const docLink = document.createElement('div');\n",
              "          docLink.innerHTML = docLinkHtml;\n",
              "          element.appendChild(docLink);\n",
              "        }\n",
              "      </script>\n",
              "    </div>\n",
              "  </div>\n",
              "  "
            ],
            "text/plain": [
              "   Month  Starting Balance  Repayment  ...  New Balance  Mortgage Name  Interest Rate\n",
              "0      1         400000.00    1686.42  ...    399313.58        30 Year           0.03\n",
              "1      2         399313.58    1686.42  ...    398625.44        30 Year           0.03\n",
              "2      3         398625.44    1686.42  ...    397935.58        30 Year           0.03\n",
              "3      4         397935.58    1686.42  ...    397243.99        30 Year           0.03\n",
              "4      5         397243.99    1686.42  ...    396550.67        30 Year           0.03\n",
              "\n",
              "[5 rows x 8 columns]"
            ]
          },
          "metadata": {},
          "execution_count": 5
        }
      ]
    },
    {
      "cell_type": "code",
      "source": [
        "df.info()"
      ],
      "metadata": {
        "colab": {
          "base_uri": "https://localhost:8080/"
        },
        "id": "i2GVetXG2eaR",
        "outputId": "80f1353b-15aa-445e-9b51-d284bd42771d"
      },
      "execution_count": 6,
      "outputs": [
        {
          "output_type": "stream",
          "name": "stdout",
          "text": [
            "<class 'pandas.core.frame.DataFrame'>\n",
            "RangeIndex: 1080 entries, 0 to 1079\n",
            "Data columns (total 8 columns):\n",
            " #   Column            Non-Null Count  Dtype  \n",
            "---  ------            --------------  -----  \n",
            " 0   Month             1080 non-null   int64  \n",
            " 1   Starting Balance  1080 non-null   float64\n",
            " 2   Repayment         1080 non-null   float64\n",
            " 3   Interest Paid     1080 non-null   float64\n",
            " 4   Principal Paid    1080 non-null   float64\n",
            " 5   New Balance       1080 non-null   float64\n",
            " 6   Mortgage Name     1080 non-null   object \n",
            " 7   Interest Rate     1080 non-null   float64\n",
            "dtypes: float64(6), int64(1), object(1)\n",
            "memory usage: 67.6+ KB\n"
          ]
        }
      ]
    },
    {
      "cell_type": "code",
      "source": [
        "# Remane of columns with the dictionary method so we can have more pythoic names to work with \n",
        "df=df.rename(columns={\n",
        "    'Starting Balance':'Starting_Balance',\n",
        "    'Interest Paid':'Interest_Paid',\n",
        "    'Principal Paid':'Principal_Paid',\n",
        "    'New Balance':'New_Balance',\n",
        "    'Mortgage Name':'Mortgage_Name',\n",
        "    'Interest Rate':'Interest_Rate',\n",
        "})"
      ],
      "metadata": {
        "id": "HoS626FL5d8_"
      },
      "execution_count": 7,
      "outputs": []
    },
    {
      "cell_type": "code",
      "source": [
        "# create filters on each column to be used\n",
        "Ir3=df['Interest_Rate']==0.03\n",
        "Ir5=df['Interest_Rate']==0.05\n",
        "ItP=df['Interest_Paid']\n",
        "Year=df['Mortgage_Name']=='30 Year'\n",
        "Year"
      ],
      "metadata": {
        "colab": {
          "base_uri": "https://localhost:8080/"
        },
        "id": "PAfItQfFutuD",
        "outputId": "926b1571-5a16-4337-ca1e-97416ad0bae3"
      },
      "execution_count": 11,
      "outputs": [
        {
          "output_type": "execute_result",
          "data": {
            "text/plain": [
              "0        True\n",
              "1        True\n",
              "2        True\n",
              "3        True\n",
              "4        True\n",
              "        ...  \n",
              "1075    False\n",
              "1076    False\n",
              "1077    False\n",
              "1078    False\n",
              "1079    False\n",
              "Name: Mortgage_Name, Length: 1080, dtype: bool"
            ]
          },
          "metadata": {},
          "execution_count": 11
        }
      ]
    },
    {
      "cell_type": "code",
      "source": [
        "# loc the filters in new variables with the .loc method \n",
        "filter3=df.loc[Year&Ir3,:]\n",
        "filter5=df.loc[Year&Ir5,:]"
      ],
      "metadata": {
        "id": "z9ys821UHJjm"
      },
      "execution_count": 15,
      "outputs": []
    },
    {
      "cell_type": "code",
      "source": [
        "# define the figure size \n",
        "fig, axes = plt.subplots(nrows = 1, ncols = 1, figsize=(10, 5) )\n",
        "# graphic each filtered variables\n",
        "plt.plot(filter3['Month'],filter3['Interest_Paid'].cumsum(),c='b');\n",
        "plt.plot(filter5['Month'],filter5['Interest_Paid'].cumsum(),c='k');"
      ],
      "metadata": {
        "colab": {
          "base_uri": "https://localhost:8080/",
          "height": 320
        },
        "id": "gccVH6JI7HpH",
        "outputId": "96d42656-e0f4-4bb1-f9d9-351aa207083a"
      },
      "execution_count": 22,
      "outputs": [
        {
          "output_type": "display_data",
          "data": {
            "image/png": "[encoded data removed]",
            "text/plain": [
              "<Figure size 720x360 with 1 Axes>"
            ]
          },
          "metadata": {
            "needs_background": "light"
          }
        }
      ]
    }
  ]
}