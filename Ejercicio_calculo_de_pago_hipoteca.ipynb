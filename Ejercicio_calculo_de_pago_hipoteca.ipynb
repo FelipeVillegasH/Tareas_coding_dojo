{
  "nbformat": 4,
  "nbformat_minor": 0,
  "metadata": {
    "colab": {
      "name": "Ejercicio_calculo_de_pago_hipoteca.ipynb",
      "provenance": [],
      "toc_visible": true,
      "collapsed_sections": [],
      "authorship_tag": "ABX9TyP3XhQOFGgR9sAkILAD8g94",
      "include_colab_link": true
    },
    "kernelspec": {
      "name": "python3",
      "display_name": "Python 3"
    },
    "language_info": {
      "name": "python"
    }
  },
  "cells": [
    {
      "cell_type": "markdown",
      "metadata": {
        "id": "view-in-github",
        "colab_type": "text"
      },
      "source": [
        "<a href=\"https://colab.research.google.com/github/FelipeVillegasH/Tareas_coding_dojo/blob/main/Ejercicio_calculo_de_pago_hipoteca.ipynb\" target=\"_parent\"><img src=\"https://colab.research.google.com/assets/colab-badge.svg\" alt=\"Open In Colab\"/></a>"
      ]
    },
    {
      "cell_type": "markdown",
      "source": [
        "# ****Ejercicio calculo de hipoteca****\n",
        "## ***Felipe Villegas***\n",
        "### **Creado: 05.01.2022**\n",
        "### **Acutalizado: 05.01.2022**\n",
        "#### Descripcion: Funciones basicas de math/simple math\n",
        "\n",
        "\n"
      ],
      "metadata": {
        "id": "yYEbRX321c97"
      }
    },
    {
      "cell_type": "code",
      "execution_count": null,
      "metadata": {
        "id": "7huAPvJIbjgV",
        "colab": {
          "base_uri": "https://localhost:8080/"
        },
        "outputId": "2ea9c99e-aa69-4b2e-f3b4-86d57a3b8a32"
      },
      "outputs": [
        {
          "output_type": "stream",
          "name": "stdout",
          "text": [
            "400000\n",
            "0.0025\n",
            "360\n",
            "la respuesta es 1686.42\n",
            "Help on built-in function round in module builtins:\n",
            "\n",
            "round(number, ndigits=None)\n",
            "    Round a number to a given precision in decimal digits.\n",
            "    \n",
            "    The return value is an integer if ndigits is omitted or None.  Otherwise\n",
            "    the return value has the same type as the number.  ndigits may be negative.\n",
            "\n",
            "Help on built-in function format in module builtins:\n",
            "\n",
            "format(value, format_spec='', /)\n",
            "    Return value.__format__(format_spec)\n",
            "    \n",
            "    format_spec defaults to the empty string.\n",
            "    See the Format Specification Mini-Language section of help('FORMATTING') for\n",
            "    details.\n",
            "\n"
          ]
        },
        {
          "output_type": "execute_result",
          "data": {
            "text/plain": [
              "str"
            ]
          },
          "metadata": {},
          "execution_count": 35
        }
      ],
      "source": [
        "# P*((r*(1+r)**n)/((1+r)**n-1))\n",
        "P=400000\n",
        "r=(0.03/12)\n",
        "n=360\n",
        "print(P)\n",
        "print(r)\n",
        "print(n)\n",
        "x=round(P*((r*(1+r)**n)/((1+r)**n-1)),2) \n",
        "print(\"la respuesta es\", x)\n",
        "help(round)\n",
        "# la funcion round devuelve valores numericos para futuros calculos \n",
        "help(format)\n",
        "format(x, \"0.1f\")\n",
        "type(format(x, \"0.1f\"))\n",
        "# format por otro lado imprime en formato string y el numero de caracteres se expresa en fraccion de 1 \n",
        "# por lo que al querer representar 1 decimal utilizamos el 0.1 en lugar del 1\n",
        "# en otras palabras el 0 representa el entero \n"
      ]
    }
  ]
}