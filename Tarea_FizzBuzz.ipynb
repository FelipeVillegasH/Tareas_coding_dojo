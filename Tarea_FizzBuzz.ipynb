{
  "nbformat": 4,
  "nbformat_minor": 0,
  "metadata": {
    "colab": {
      "name": "Tarea_FizzBuzz.ipynb",
      "provenance": [],
      "collapsed_sections": [],
      "authorship_tag": "ABX9TyPIdjpRZDWexkjDYtbKGlg1",
      "include_colab_link": true
    },
    "kernelspec": {
      "name": "python3",
      "display_name": "Python 3"
    },
    "language_info": {
      "name": "python"
    }
  },
  "cells": [
    {
      "cell_type": "markdown",
      "metadata": {
        "id": "view-in-github",
        "colab_type": "text"
      },
      "source": [
        "<a href=\"https://colab.research.google.com/github/FelipeVillegasH/Tareas_coding_dojo/blob/main/Tarea_FizzBuzz.ipynb\" target=\"_parent\"><img src=\"https://colab.research.google.com/assets/colab-badge.svg\" alt=\"Open In Colab\"/></a>"
      ]
    },
    {
      "cell_type": "markdown",
      "source": [
        "# Tarea FizzBuzz\n",
        "# Felipe Villegas\n",
        "# Creado: 07.01.2022\n",
        "# Descripcion: se utilizo un bucle para iterar en el rango del 1 al 20 y las acciones se ejecutaron por medio de las condiciones if, elif, else. \n",
        "\n",
        "### Notas adicionales: tomar en cuenta los espacios de identacion despues de cada uno de los dos puntos\n",
        "\n",
        "### el bucle for in x es secuencial y por lo tanto itera en cada uno de los valores del range, por esto es importante poner la condicion con mas variables al inicio, ya que de no ser asi, esta se omite cuando se cumple una condicion previa. \n"
      ],
      "metadata": {
        "id": "cGjPC9eWuzD_"
      }
    },
    {
      "cell_type": "code",
      "execution_count": null,
      "metadata": {
        "id": "eNS-TPKBBa5a"
      },
      "outputs": [],
      "source": [
        "import numpy as np\n",
        "import pandas as pd"
      ]
    },
    {
      "cell_type": "code",
      "source": [
        "for x in range(1,21):\n",
        "  if x % 3 == 0 and x % 5 == 0:\n",
        "    print(\"FizzBuzz\")\n",
        "  elif x % 3 == 0:\n",
        "    print(\"Fizz\")\n",
        "  elif x % 5 == 0:\n",
        "    print(\"Buzz\")\n",
        "  else:\n",
        "    print(x)\n",
        "\n",
        "  "
      ],
      "metadata": {
        "colab": {
          "base_uri": "https://localhost:8080/"
        },
        "id": "N1qaMontELQN",
        "outputId": "c9cdd318-cdd4-45e0-e30a-2494f5698174"
      },
      "execution_count": 14,
      "outputs": [
        {
          "output_type": "stream",
          "name": "stdout",
          "text": [
            "1\n",
            "2\n",
            "Fizz\n",
            "4\n",
            "Buzz\n",
            "Fizz\n",
            "7\n",
            "8\n",
            "Fizz\n",
            "Buzz\n",
            "11\n",
            "Fizz\n",
            "13\n",
            "14\n",
            "FizzBuzz\n",
            "16\n",
            "17\n",
            "Fizz\n",
            "19\n",
            "Buzz\n"
          ]
        }
      ]
    }
  ]
}